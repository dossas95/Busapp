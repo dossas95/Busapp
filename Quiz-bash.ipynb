{
 "cells": [
  {
   "cell_type": "markdown",
   "metadata": {},
   "source": [
    "1. Cual es el valor del campo 'pin' del archivo 'U.S. Bank' para el registro 1?"
   ]
  },
  {
   "cell_type": "code",
   "execution_count": 1,
   "metadata": {},
   "outputs": [
    {
     "name": "stdout",
     "output_type": "stream",
     "text": [
      "\"231\"\n"
     ]
    }
   ],
   "source": [
    "head -n 2 U.S.\\ Bank.txt | tail -n 1 | cut -d, -f4"
   ]
  },
  {
   "cell_type": "markdown",
   "metadata": {},
   "source": [
    "***"
   ]
  },
  {
   "cell_type": "markdown",
   "metadata": {},
   "source": [
    "2. Cuantos registros quedan en el archivo 'person' si se eliminan los registros con 'city' = 'Aurora (Colorado)'?"
   ]
  },
  {
   "cell_type": "code",
   "execution_count": 3,
   "metadata": {},
   "outputs": [
    {
     "name": "stdout",
     "output_type": "stream",
     "text": [
      "15000\n"
     ]
    }
   ],
   "source": [
    "tail +2  person | cut -d, -f3 | wc -l"
   ]
  },
  {
   "cell_type": "code",
   "execution_count": 2,
   "metadata": {},
   "outputs": [
    {
     "name": "stdout",
     "output_type": "stream",
     "text": [
      "142\n"
     ]
    }
   ],
   "source": [
    "tail +2  person | cut -d, -f3 | sed -n '/\"Aurora (Colorado)\"/p' | wc -l"
   ]
  },
  {
   "cell_type": "markdown",
   "metadata": {},
   "source": [
    "15000 - 142 = 14858"
   ]
  },
  {
   "cell_type": "markdown",
   "metadata": {},
   "source": [
    "***"
   ]
  },
  {
   "cell_type": "markdown",
   "metadata": {},
   "source": [
    "3. Cual es la 'ciudad (estado)' en la posicion 88 del archivo 'person', si el archivo se organiza alfabeticamente por el campo 'ssn'?"
   ]
  },
  {
   "cell_type": "code",
   "execution_count": 7,
   "metadata": {},
   "outputs": [
    {
     "name": "stdout",
     "output_type": "stream",
     "text": [
      "\"116-25-1276\",\"Indianapolis[11] (Indiana)\"\n",
      "sort: write failed: 'standard output': Broken pipe\n",
      "sort: write error\n"
     ]
    }
   ],
   "source": [
    "tail +2  person | cut -d, -f1,3 | sort | head -n 88 | tail -1"
   ]
  },
  {
   "cell_type": "markdown",
   "metadata": {},
   "source": [
    "***"
   ]
  },
  {
   "cell_type": "markdown",
   "metadata": {},
   "source": [
    "4. Cual es el valor del campo 'validthru' del archivo 'PNC' para el registro 3741?"
   ]
  },
  {
   "cell_type": "code",
   "execution_count": 6,
   "metadata": {},
   "outputs": [
    {
     "name": "stdout",
     "output_type": "stream",
     "text": [
      "\"Apr/2025\"\n"
     ]
    }
   ],
   "source": [
    "tail +2 PNC.txt | cut -d, -f2 | head -n 3741 | tail -1"
   ]
  },
  {
   "cell_type": "markdown",
   "metadata": {},
   "source": [
    "***"
   ]
  },
  {
   "cell_type": "markdown",
   "metadata": {},
   "source": [
    "5. Cuantos registros hay en el archivo 'person' para city = 'Lexington (Kentucky)'?"
   ]
  },
  {
   "cell_type": "code",
   "execution_count": 8,
   "metadata": {},
   "outputs": [
    {
     "name": "stdout",
     "output_type": "stream",
     "text": [
      "163\n"
     ]
    }
   ],
   "source": [
    "tail +2  person | cut -d, -f3 | sed -n '/\"Lexington (Kentucky)\"/p' | wc -l"
   ]
  },
  {
   "cell_type": "code",
   "execution_count": 7,
   "metadata": {},
   "outputs": [
    {
     "name": "stdout",
     "output_type": "stream",
     "text": [
      "163\n"
     ]
    }
   ],
   "source": [
    "grep 'Lexington (Kentucky)' person | wc -l"
   ]
  },
  {
   "cell_type": "markdown",
   "metadata": {},
   "source": [
    "***"
   ]
  },
  {
   "cell_type": "markdown",
   "metadata": {},
   "source": [
    "6. Cual el nombre completo (fullname) del del dueño de la tarjeta 3608-1395-4856-1915?"
   ]
  },
  {
   "cell_type": "code",
   "execution_count": 2,
   "metadata": {},
   "outputs": [
    {
     "name": "stdout",
     "output_type": "stream",
     "text": [
      "\"238-83-1981\"\n"
     ]
    }
   ],
   "source": [
    "grep '3608-1395-4856-1915' *.csv | cut -d, -f2"
   ]
  },
  {
   "cell_type": "code",
   "execution_count": 8,
   "metadata": {},
   "outputs": [
    {
     "name": "stdout",
     "output_type": "stream",
     "text": [
      "\"Mickey Shisler\"\n"
     ]
    }
   ],
   "source": [
    "grep '238-83-1981' person | cut -d, -f5"
   ]
  },
  {
   "cell_type": "markdown",
   "metadata": {},
   "source": [
    "***"
   ]
  },
  {
   "cell_type": "markdown",
   "metadata": {},
   "source": [
    "7. Cuantas personas nacieron en el trimestre Q4 del año?"
   ]
  },
  {
   "cell_type": "code",
   "execution_count": null,
   "metadata": {},
   "outputs": [],
   "source": [
    "csvsql --query 'SELECT COUNT(*) FROM (SELECT * FROM person WHERE birthdate LIKE \"%-10-%\" UNION SELECT * FROM person WHERE birthdate LIKE \"%-11-%\" UNION SELECT * FROM person WHERE birthdate LIKE \"%-12-%\") as something' person"
   ]
  },
  {
   "cell_type": "markdown",
   "metadata": {},
   "source": [
    "***"
   ]
  },
  {
   "cell_type": "markdown",
   "metadata": {},
   "source": [
    "8. Cuantas veces aparece el número 4394 en el tercer grupo de digitos de las tarjetas de credito?"
   ]
  },
  {
   "cell_type": "code",
   "execution_count": 16,
   "metadata": {},
   "outputs": [
    {
     "name": "stdout",
     "output_type": "stream",
     "text": [
      "995\n"
     ]
    }
   ],
   "source": [
    "grep '....-....-4394-....' *.csv | wc -l"
   ]
  },
  {
   "cell_type": "markdown",
   "metadata": {},
   "source": [
    "***"
   ]
  },
  {
   "cell_type": "markdown",
   "metadata": {},
   "source": [
    "9. Cuantas personas tienen 'EA' como iniciales de su nombre?"
   ]
  },
  {
   "cell_type": "code",
   "execution_count": 17,
   "metadata": {},
   "outputs": [
    {
     "name": "stdout",
     "output_type": "stream",
     "text": [
      "23\n"
     ]
    }
   ],
   "source": [
    "tail +2 person | cut -d, -f5 | grep 'E.*A.*' | wc -l"
   ]
  },
  {
   "cell_type": "markdown",
   "metadata": {},
   "source": [
    "***"
   ]
  },
  {
   "cell_type": "markdown",
   "metadata": {},
   "source": [
    "10. Cuantas tarjetas tienen el pin entre 590 y 600?"
   ]
  },
  {
   "cell_type": "code",
   "execution_count": 2,
   "metadata": {},
   "outputs": [
    {
     "name": "stdout",
     "output_type": "stream",
     "text": [
      "532\n"
     ]
    }
   ],
   "source": [
    "cut -d, -f4 *.txt | grep '59[0-9]\\|600' | wc -l"
   ]
  },
  {
   "cell_type": "markdown",
   "metadata": {},
   "source": [
    "***"
   ]
  },
  {
   "cell_type": "markdown",
   "metadata": {},
   "source": [
    "11. Cual es la cantidad maxima de tarjetas que tiene un banco?"
   ]
  },
  {
   "cell_type": "code",
   "execution_count": 3,
   "metadata": {},
   "outputs": [
    {
     "name": "stdout",
     "output_type": "stream",
     "text": [
      "   3798 American-Express.txt\n",
      "   3811 Bank of America.txt\n",
      "   3862 BarclayCard US.txt\n",
      "   3797 Capital One.txt\n",
      "   3838 Chase.txt\n",
      "   3864 Citibank.txt\n",
      "   3821 Discover.txt\n",
      "   3931 MasterCard.txt\n",
      "   3743 PNC.txt\n",
      "   3861 USAA.txt\n",
      "   3857 U.S. Bank.txt\n",
      "   3870 Visa.txt\n",
      "   3960 Wells Fargo.txt\n",
      "  50013 total\n"
     ]
    }
   ],
   "source": [
    "wc -l *.csv |sort"
   ]
  },
  {
   "cell_type": "code",
   "execution_count": null,
   "metadata": {},
   "outputs": [],
   "source": []
  }
 ],
 "metadata": {
  "kernelspec": {
   "display_name": "Bash",
   "language": "bash",
   "name": "bash"
  },
  "language_info": {
   "codemirror_mode": "shell",
   "file_extension": ".sh",
   "mimetype": "text/x-sh",
   "name": "bash"
  }
 },
 "nbformat": 4,
 "nbformat_minor": 2
}
